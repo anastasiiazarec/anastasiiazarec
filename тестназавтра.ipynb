{
 "cells": [
  {
   "cell_type": "code",
   "execution_count": 25,
   "id": "ca5c3237-8611-4d83-8e27-ff096b3fec3e",
   "metadata": {},
   "outputs": [],
   "source": [
    "import numpy as np\n",
    "import pandas as pd\n",
    "from statsmodels.formula.api import ols\n",
    "import statsmodels.api as sm\n",
    "from statsmodels.tools import add_constant\n",
    "from statsmodels.iolib.summary2 import summary_col, summary_params\n",
    "from scipy.stats import t\n",
    "import seaborn as sns\n",
    "from scipy.stats import f\n",
    "\n",
    "#сначала мы ищем print(regression2.f_test('age=0, agesq=0')), а потом уже f.ppf(q=1-0.01, dfn=2, dfd=700)\n"
   ]
  },
  {
   "cell_type": "code",
   "execution_count": 2,
   "id": "f6c5ff5a-1193-405b-91f5-b866567f59ec",
   "metadata": {},
   "outputs": [],
   "source": [
    "df=pd.read_csv('Electricity.csv')"
   ]
  },
  {
   "cell_type": "code",
   "execution_count": null,
   "id": "eaa7786b-aa1b-4e30-9fb9-0a80aaa78493",
   "metadata": {},
   "outputs": [],
   "source": []
  },
  {
   "cell_type": "code",
   "execution_count": 3,
   "id": "be6532cf-4a80-40aa-b789-1cbd4a5b9475",
   "metadata": {},
   "outputs": [],
   "source": [
    "regression1=ols('np.log(cost)~np.log(q)+np.log(pk)+np.log(pf)', data=df).fit(cov_type='HC3')"
   ]
  },
  {
   "cell_type": "code",
   "execution_count": 4,
   "id": "afed1973-1118-46cb-8d47-f6e68443ab8c",
   "metadata": {},
   "outputs": [
    {
     "data": {
      "text/html": [
       "<table class=\"simpletable\">\n",
       "<caption>OLS Regression Results</caption>\n",
       "<tr>\n",
       "  <th>Dep. Variable:</th>      <td>np.log(cost)</td>   <th>  R-squared:         </th> <td>   0.982</td>\n",
       "</tr>\n",
       "<tr>\n",
       "  <th>Model:</th>                   <td>OLS</td>       <th>  Adj. R-squared:    </th> <td>   0.982</td>\n",
       "</tr>\n",
       "<tr>\n",
       "  <th>Method:</th>             <td>Least Squares</td>  <th>  F-statistic:       </th> <td>   666.8</td>\n",
       "</tr>\n",
       "<tr>\n",
       "  <th>Date:</th>             <td>Thu, 22 May 2025</td> <th>  Prob (F-statistic):</th> <td>5.67e-88</td>\n",
       "</tr>\n",
       "<tr>\n",
       "  <th>Time:</th>                 <td>22:28:24</td>     <th>  Log-Likelihood:    </th> <td>  25.837</td>\n",
       "</tr>\n",
       "<tr>\n",
       "  <th>No. Observations:</th>      <td>   158</td>      <th>  AIC:               </th> <td>  -43.67</td>\n",
       "</tr>\n",
       "<tr>\n",
       "  <th>Df Residuals:</th>          <td>   154</td>      <th>  BIC:               </th> <td>  -31.42</td>\n",
       "</tr>\n",
       "<tr>\n",
       "  <th>Df Model:</th>              <td>     3</td>      <th>                     </th>     <td> </td>   \n",
       "</tr>\n",
       "<tr>\n",
       "  <th>Covariance Type:</th>         <td>HC3</td>       <th>                     </th>     <td> </td>   \n",
       "</tr>\n",
       "</table>\n",
       "<table class=\"simpletable\">\n",
       "<tr>\n",
       "       <td></td>         <th>coef</th>     <th>std err</th>      <th>z</th>      <th>P>|z|</th>  <th>[0.025</th>    <th>0.975]</th>  \n",
       "</tr>\n",
       "<tr>\n",
       "  <th>Intercept</th>  <td>   -7.0607</td> <td>    0.467</td> <td>  -15.112</td> <td> 0.000</td> <td>   -7.976</td> <td>   -6.145</td>\n",
       "</tr>\n",
       "<tr>\n",
       "  <th>np.log(q)</th>  <td>    0.8388</td> <td>    0.021</td> <td>   40.413</td> <td> 0.000</td> <td>    0.798</td> <td>    0.880</td>\n",
       "</tr>\n",
       "<tr>\n",
       "  <th>np.log(pk)</th> <td>    0.1780</td> <td>    0.088</td> <td>    2.030</td> <td> 0.042</td> <td>    0.006</td> <td>    0.350</td>\n",
       "</tr>\n",
       "<tr>\n",
       "  <th>np.log(pf)</th> <td>    0.7202</td> <td>    0.076</td> <td>    9.519</td> <td> 0.000</td> <td>    0.572</td> <td>    0.868</td>\n",
       "</tr>\n",
       "</table>\n",
       "<table class=\"simpletable\">\n",
       "<tr>\n",
       "  <th>Omnibus:</th>       <td>42.858</td> <th>  Durbin-Watson:     </th> <td>   1.443</td>\n",
       "</tr>\n",
       "<tr>\n",
       "  <th>Prob(Omnibus):</th> <td> 0.000</td> <th>  Jarque-Bera (JB):  </th> <td> 105.648</td>\n",
       "</tr>\n",
       "<tr>\n",
       "  <th>Skew:</th>          <td> 1.124</td> <th>  Prob(JB):          </th> <td>1.15e-23</td>\n",
       "</tr>\n",
       "<tr>\n",
       "  <th>Kurtosis:</th>      <td> 6.316</td> <th>  Cond. No.          </th> <td>    248.</td>\n",
       "</tr>\n",
       "</table><br/><br/>Notes:<br/>[1] Standard Errors are heteroscedasticity robust (HC3)"
      ],
      "text/latex": [
       "\\begin{center}\n",
       "\\begin{tabular}{lclc}\n",
       "\\toprule\n",
       "\\textbf{Dep. Variable:}    &   np.log(cost)   & \\textbf{  R-squared:         } &     0.982   \\\\\n",
       "\\textbf{Model:}            &       OLS        & \\textbf{  Adj. R-squared:    } &     0.982   \\\\\n",
       "\\textbf{Method:}           &  Least Squares   & \\textbf{  F-statistic:       } &     666.8   \\\\\n",
       "\\textbf{Date:}             & Thu, 22 May 2025 & \\textbf{  Prob (F-statistic):} &  5.67e-88   \\\\\n",
       "\\textbf{Time:}             &     22:28:24     & \\textbf{  Log-Likelihood:    } &    25.837   \\\\\n",
       "\\textbf{No. Observations:} &         158      & \\textbf{  AIC:               } &    -43.67   \\\\\n",
       "\\textbf{Df Residuals:}     &         154      & \\textbf{  BIC:               } &    -31.42   \\\\\n",
       "\\textbf{Df Model:}         &           3      & \\textbf{                     } &             \\\\\n",
       "\\textbf{Covariance Type:}  &       HC3        & \\textbf{                     } &             \\\\\n",
       "\\bottomrule\n",
       "\\end{tabular}\n",
       "\\begin{tabular}{lcccccc}\n",
       "                    & \\textbf{coef} & \\textbf{std err} & \\textbf{z} & \\textbf{P$> |$z$|$} & \\textbf{[0.025} & \\textbf{0.975]}  \\\\\n",
       "\\midrule\n",
       "\\textbf{Intercept}  &      -7.0607  &        0.467     &   -15.112  &         0.000        &       -7.976    &       -6.145     \\\\\n",
       "\\textbf{np.log(q)}  &       0.8388  &        0.021     &    40.413  &         0.000        &        0.798    &        0.880     \\\\\n",
       "\\textbf{np.log(pk)} &       0.1780  &        0.088     &     2.030  &         0.042        &        0.006    &        0.350     \\\\\n",
       "\\textbf{np.log(pf)} &       0.7202  &        0.076     &     9.519  &         0.000        &        0.572    &        0.868     \\\\\n",
       "\\bottomrule\n",
       "\\end{tabular}\n",
       "\\begin{tabular}{lclc}\n",
       "\\textbf{Omnibus:}       & 42.858 & \\textbf{  Durbin-Watson:     } &    1.443  \\\\\n",
       "\\textbf{Prob(Omnibus):} &  0.000 & \\textbf{  Jarque-Bera (JB):  } &  105.648  \\\\\n",
       "\\textbf{Skew:}          &  1.124 & \\textbf{  Prob(JB):          } & 1.15e-23  \\\\\n",
       "\\textbf{Kurtosis:}      &  6.316 & \\textbf{  Cond. No.          } &     248.  \\\\\n",
       "\\bottomrule\n",
       "\\end{tabular}\n",
       "%\\caption{OLS Regression Results}\n",
       "\\end{center}\n",
       "\n",
       "Notes: \\newline\n",
       " [1] Standard Errors are heteroscedasticity robust (HC3)"
      ],
      "text/plain": [
       "<class 'statsmodels.iolib.summary.Summary'>\n",
       "\"\"\"\n",
       "                            OLS Regression Results                            \n",
       "==============================================================================\n",
       "Dep. Variable:           np.log(cost)   R-squared:                       0.982\n",
       "Model:                            OLS   Adj. R-squared:                  0.982\n",
       "Method:                 Least Squares   F-statistic:                     666.8\n",
       "Date:                Thu, 22 May 2025   Prob (F-statistic):           5.67e-88\n",
       "Time:                        22:28:24   Log-Likelihood:                 25.837\n",
       "No. Observations:                 158   AIC:                            -43.67\n",
       "Df Residuals:                     154   BIC:                            -31.42\n",
       "Df Model:                           3                                         \n",
       "Covariance Type:                  HC3                                         \n",
       "==============================================================================\n",
       "                 coef    std err          z      P>|z|      [0.025      0.975]\n",
       "------------------------------------------------------------------------------\n",
       "Intercept     -7.0607      0.467    -15.112      0.000      -7.976      -6.145\n",
       "np.log(q)      0.8388      0.021     40.413      0.000       0.798       0.880\n",
       "np.log(pk)     0.1780      0.088      2.030      0.042       0.006       0.350\n",
       "np.log(pf)     0.7202      0.076      9.519      0.000       0.572       0.868\n",
       "==============================================================================\n",
       "Omnibus:                       42.858   Durbin-Watson:                   1.443\n",
       "Prob(Omnibus):                  0.000   Jarque-Bera (JB):              105.648\n",
       "Skew:                           1.124   Prob(JB):                     1.15e-23\n",
       "Kurtosis:                       6.316   Cond. No.                         248.\n",
       "==============================================================================\n",
       "\n",
       "Notes:\n",
       "[1] Standard Errors are heteroscedasticity robust (HC3)\n",
       "\"\"\""
      ]
     },
     "execution_count": 4,
     "metadata": {},
     "output_type": "execute_result"
    }
   ],
   "source": [
    "regression1.summary()"
   ]
  },
  {
   "cell_type": "code",
   "execution_count": 5,
   "id": "fe113fa9-7ff7-4531-ad34-ccd0b42a893b",
   "metadata": {},
   "outputs": [
    {
     "data": {
      "text/plain": [
       "3.911342283600107"
      ]
     },
     "execution_count": 5,
     "metadata": {},
     "output_type": "execute_result"
    }
   ],
   "source": [
    "f.ppf(q=1-0.01, dfn=3, dfd=154)"
   ]
  },
  {
   "cell_type": "code",
   "execution_count": 6,
   "id": "11356bd9-0e55-4ccc-8097-1d9fe5140cdc",
   "metadata": {},
   "outputs": [],
   "source": [
    "#test-stat = F-statistic:\t666.8"
   ]
  },
  {
   "cell_type": "code",
   "execution_count": 8,
   "id": "5ee9cfdc-5d0c-48b6-9eda-a95edcf0c8e1",
   "metadata": {},
   "outputs": [
    {
     "name": "stdout",
     "output_type": "stream",
     "text": [
      "<F test: F=666.8245684470902, p=5.672044333559815e-88, df_denom=154, df_num=3>\n"
     ]
    }
   ],
   "source": [
    "print(regression1.f_test('np.log(q)=0, np.log(pk)=0, np.log(pf)=0'))"
   ]
  },
  {
   "cell_type": "code",
   "execution_count": 9,
   "id": "332cd47c-45b3-44d7-84e8-35ecaa77ad2f",
   "metadata": {},
   "outputs": [],
   "source": [
    "#test_stat > critical value => significant "
   ]
  },
  {
   "cell_type": "code",
   "execution_count": 10,
   "id": "af566672-53bd-463e-af58-ede90a9fe701",
   "metadata": {},
   "outputs": [],
   "source": [
    "#number2"
   ]
  },
  {
   "cell_type": "code",
   "execution_count": 11,
   "id": "ac034217-239c-4efe-ae8f-56f72b20ad7e",
   "metadata": {},
   "outputs": [],
   "source": [
    "df2=pd.read_csv('sleep75.csv')"
   ]
  },
  {
   "cell_type": "code",
   "execution_count": 15,
   "id": "e1236b18-9ea1-4dd5-b1bd-fdcf6923a4e2",
   "metadata": {},
   "outputs": [],
   "source": [
    "regression2=ols('sleep ~ totwrk + age + agesq + male + south', data=df2).fit()"
   ]
  },
  {
   "cell_type": "code",
   "execution_count": 16,
   "id": "2f39ecf1-5bc1-40bd-b1e6-69dee8995e72",
   "metadata": {},
   "outputs": [
    {
     "data": {
      "text/html": [
       "<table class=\"simpletable\">\n",
       "<caption>OLS Regression Results</caption>\n",
       "<tr>\n",
       "  <th>Dep. Variable:</th>          <td>sleep</td>      <th>  R-squared:         </th> <td>   0.128</td> \n",
       "</tr>\n",
       "<tr>\n",
       "  <th>Model:</th>                   <td>OLS</td>       <th>  Adj. R-squared:    </th> <td>   0.121</td> \n",
       "</tr>\n",
       "<tr>\n",
       "  <th>Method:</th>             <td>Least Squares</td>  <th>  F-statistic:       </th> <td>   20.49</td> \n",
       "</tr>\n",
       "<tr>\n",
       "  <th>Date:</th>             <td>Thu, 22 May 2025</td> <th>  Prob (F-statistic):</th> <td>4.04e-19</td> \n",
       "</tr>\n",
       "<tr>\n",
       "  <th>Time:</th>                 <td>22:45:44</td>     <th>  Log-Likelihood:    </th> <td> -5257.4</td> \n",
       "</tr>\n",
       "<tr>\n",
       "  <th>No. Observations:</th>      <td>   706</td>      <th>  AIC:               </th> <td>1.053e+04</td>\n",
       "</tr>\n",
       "<tr>\n",
       "  <th>Df Residuals:</th>          <td>   700</td>      <th>  BIC:               </th> <td>1.055e+04</td>\n",
       "</tr>\n",
       "<tr>\n",
       "  <th>Df Model:</th>              <td>     5</td>      <th>                     </th>     <td> </td>    \n",
       "</tr>\n",
       "<tr>\n",
       "  <th>Covariance Type:</th>      <td>nonrobust</td>    <th>                     </th>     <td> </td>    \n",
       "</tr>\n",
       "</table>\n",
       "<table class=\"simpletable\">\n",
       "<tr>\n",
       "      <td></td>         <th>coef</th>     <th>std err</th>      <th>t</th>      <th>P>|t|</th>  <th>[0.025</th>    <th>0.975]</th>  \n",
       "</tr>\n",
       "<tr>\n",
       "  <th>Intercept</th> <td> 3613.9947</td> <td>  218.433</td> <td>   16.545</td> <td> 0.000</td> <td> 3185.133</td> <td> 4042.856</td>\n",
       "</tr>\n",
       "<tr>\n",
       "  <th>totwrk</th>    <td>   -0.1673</td> <td>    0.018</td> <td>   -9.228</td> <td> 0.000</td> <td>   -0.203</td> <td>   -0.132</td>\n",
       "</tr>\n",
       "<tr>\n",
       "  <th>age</th>       <td>   -6.2547</td> <td>   11.191</td> <td>   -0.559</td> <td> 0.576</td> <td>  -28.227</td> <td>   15.718</td>\n",
       "</tr>\n",
       "<tr>\n",
       "  <th>agesq</th>     <td>    0.1089</td> <td>    0.134</td> <td>    0.814</td> <td> 0.416</td> <td>   -0.154</td> <td>    0.371</td>\n",
       "</tr>\n",
       "<tr>\n",
       "  <th>male</th>      <td>   90.4567</td> <td>   34.257</td> <td>    2.641</td> <td> 0.008</td> <td>   23.198</td> <td>  157.716</td>\n",
       "</tr>\n",
       "<tr>\n",
       "  <th>south</th>     <td>  114.5475</td> <td>   40.637</td> <td>    2.819</td> <td> 0.005</td> <td>   34.762</td> <td>  194.333</td>\n",
       "</tr>\n",
       "</table>\n",
       "<table class=\"simpletable\">\n",
       "<tr>\n",
       "  <th>Omnibus:</th>       <td>61.451</td> <th>  Durbin-Watson:     </th> <td>   1.945</td>\n",
       "</tr>\n",
       "<tr>\n",
       "  <th>Prob(Omnibus):</th> <td> 0.000</td> <th>  Jarque-Bera (JB):  </th> <td> 167.316</td>\n",
       "</tr>\n",
       "<tr>\n",
       "  <th>Skew:</th>          <td>-0.436</td> <th>  Prob(JB):          </th> <td>4.65e-37</td>\n",
       "</tr>\n",
       "<tr>\n",
       "  <th>Kurtosis:</th>      <td> 5.220</td> <th>  Cond. No.          </th> <td>3.95e+04</td>\n",
       "</tr>\n",
       "</table><br/><br/>Notes:<br/>[1] Standard Errors assume that the covariance matrix of the errors is correctly specified.<br/>[2] The condition number is large, 3.95e+04. This might indicate that there are<br/>strong multicollinearity or other numerical problems."
      ],
      "text/latex": [
       "\\begin{center}\n",
       "\\begin{tabular}{lclc}\n",
       "\\toprule\n",
       "\\textbf{Dep. Variable:}    &      sleep       & \\textbf{  R-squared:         } &     0.128   \\\\\n",
       "\\textbf{Model:}            &       OLS        & \\textbf{  Adj. R-squared:    } &     0.121   \\\\\n",
       "\\textbf{Method:}           &  Least Squares   & \\textbf{  F-statistic:       } &     20.49   \\\\\n",
       "\\textbf{Date:}             & Thu, 22 May 2025 & \\textbf{  Prob (F-statistic):} &  4.04e-19   \\\\\n",
       "\\textbf{Time:}             &     22:45:44     & \\textbf{  Log-Likelihood:    } &   -5257.4   \\\\\n",
       "\\textbf{No. Observations:} &         706      & \\textbf{  AIC:               } & 1.053e+04   \\\\\n",
       "\\textbf{Df Residuals:}     &         700      & \\textbf{  BIC:               } & 1.055e+04   \\\\\n",
       "\\textbf{Df Model:}         &           5      & \\textbf{                     } &             \\\\\n",
       "\\textbf{Covariance Type:}  &    nonrobust     & \\textbf{                     } &             \\\\\n",
       "\\bottomrule\n",
       "\\end{tabular}\n",
       "\\begin{tabular}{lcccccc}\n",
       "                   & \\textbf{coef} & \\textbf{std err} & \\textbf{t} & \\textbf{P$> |$t$|$} & \\textbf{[0.025} & \\textbf{0.975]}  \\\\\n",
       "\\midrule\n",
       "\\textbf{Intercept} &    3613.9947  &      218.433     &    16.545  &         0.000        &     3185.133    &     4042.856     \\\\\n",
       "\\textbf{totwrk}    &      -0.1673  &        0.018     &    -9.228  &         0.000        &       -0.203    &       -0.132     \\\\\n",
       "\\textbf{age}       &      -6.2547  &       11.191     &    -0.559  &         0.576        &      -28.227    &       15.718     \\\\\n",
       "\\textbf{agesq}     &       0.1089  &        0.134     &     0.814  &         0.416        &       -0.154    &        0.371     \\\\\n",
       "\\textbf{male}      &      90.4567  &       34.257     &     2.641  &         0.008        &       23.198    &      157.716     \\\\\n",
       "\\textbf{south}     &     114.5475  &       40.637     &     2.819  &         0.005        &       34.762    &      194.333     \\\\\n",
       "\\bottomrule\n",
       "\\end{tabular}\n",
       "\\begin{tabular}{lclc}\n",
       "\\textbf{Omnibus:}       & 61.451 & \\textbf{  Durbin-Watson:     } &    1.945  \\\\\n",
       "\\textbf{Prob(Omnibus):} &  0.000 & \\textbf{  Jarque-Bera (JB):  } &  167.316  \\\\\n",
       "\\textbf{Skew:}          & -0.436 & \\textbf{  Prob(JB):          } & 4.65e-37  \\\\\n",
       "\\textbf{Kurtosis:}      &  5.220 & \\textbf{  Cond. No.          } & 3.95e+04  \\\\\n",
       "\\bottomrule\n",
       "\\end{tabular}\n",
       "%\\caption{OLS Regression Results}\n",
       "\\end{center}\n",
       "\n",
       "Notes: \\newline\n",
       " [1] Standard Errors assume that the covariance matrix of the errors is correctly specified. \\newline\n",
       " [2] The condition number is large, 3.95e+04. This might indicate that there are \\newline\n",
       " strong multicollinearity or other numerical problems."
      ],
      "text/plain": [
       "<class 'statsmodels.iolib.summary.Summary'>\n",
       "\"\"\"\n",
       "                            OLS Regression Results                            \n",
       "==============================================================================\n",
       "Dep. Variable:                  sleep   R-squared:                       0.128\n",
       "Model:                            OLS   Adj. R-squared:                  0.121\n",
       "Method:                 Least Squares   F-statistic:                     20.49\n",
       "Date:                Thu, 22 May 2025   Prob (F-statistic):           4.04e-19\n",
       "Time:                        22:45:44   Log-Likelihood:                -5257.4\n",
       "No. Observations:                 706   AIC:                         1.053e+04\n",
       "Df Residuals:                     700   BIC:                         1.055e+04\n",
       "Df Model:                           5                                         \n",
       "Covariance Type:            nonrobust                                         \n",
       "==============================================================================\n",
       "                 coef    std err          t      P>|t|      [0.025      0.975]\n",
       "------------------------------------------------------------------------------\n",
       "Intercept   3613.9947    218.433     16.545      0.000    3185.133    4042.856\n",
       "totwrk        -0.1673      0.018     -9.228      0.000      -0.203      -0.132\n",
       "age           -6.2547     11.191     -0.559      0.576     -28.227      15.718\n",
       "agesq          0.1089      0.134      0.814      0.416      -0.154       0.371\n",
       "male          90.4567     34.257      2.641      0.008      23.198     157.716\n",
       "south        114.5475     40.637      2.819      0.005      34.762     194.333\n",
       "==============================================================================\n",
       "Omnibus:                       61.451   Durbin-Watson:                   1.945\n",
       "Prob(Omnibus):                  0.000   Jarque-Bera (JB):              167.316\n",
       "Skew:                          -0.436   Prob(JB):                     4.65e-37\n",
       "Kurtosis:                       5.220   Cond. No.                     3.95e+04\n",
       "==============================================================================\n",
       "\n",
       "Notes:\n",
       "[1] Standard Errors assume that the covariance matrix of the errors is correctly specified.\n",
       "[2] The condition number is large, 3.95e+04. This might indicate that there are\n",
       "strong multicollinearity or other numerical problems.\n",
       "\"\"\""
      ]
     },
     "execution_count": 16,
     "metadata": {},
     "output_type": "execute_result"
    }
   ],
   "source": [
    "regression2.summary()"
   ]
  },
  {
   "cell_type": "code",
   "execution_count": 20,
   "id": "f5cf789b-95d3-495e-b45b-538be3d97a04",
   "metadata": {},
   "outputs": [
    {
     "name": "stdout",
     "output_type": "stream",
     "text": [
      "<F test: F=2.3467898522747093, p=0.09642815080519176, df_denom=700, df_num=2>\n"
     ]
    }
   ],
   "source": [
    "print(regression2.f_test('age=0, agesq=0'))"
   ]
  },
  {
   "cell_type": "code",
   "execution_count": 21,
   "id": "a27cc58e-463c-43e2-b11c-0b3bcb8d8f6f",
   "metadata": {},
   "outputs": [
    {
     "data": {
      "text/plain": [
       "4.635600061827755"
      ]
     },
     "execution_count": 21,
     "metadata": {},
     "output_type": "execute_result"
    }
   ],
   "source": [
    "f.ppf(q=1-0.01, dfn=2, dfd=700)"
   ]
  },
  {
   "cell_type": "code",
   "execution_count": 24,
   "id": "61d13e3d-0c2a-4edd-b4a9-ef71f8289659",
   "metadata": {},
   "outputs": [],
   "source": [
    "#test-stat = F=2.3467898522747093, critical value = 4.635600061827755; since test-stat < sritical value => not significant)\n",
    "#если критикал вэлью больше чем ф стат то не сигнификат, если ф стат больше чем критикал вэлью, то сигнификант"
   ]
  },
  {
   "cell_type": "code",
   "execution_count": null,
   "id": "f91f9134-460f-432d-8d81-a8641eee6590",
   "metadata": {},
   "outputs": [],
   "source": []
  }
 ],
 "metadata": {
  "kernelspec": {
   "display_name": "Python [conda env:base] *",
   "language": "python",
   "name": "conda-base-py"
  },
  "language_info": {
   "codemirror_mode": {
    "name": "ipython",
    "version": 3
   },
   "file_extension": ".py",
   "mimetype": "text/x-python",
   "name": "python",
   "nbconvert_exporter": "python",
   "pygments_lexer": "ipython3",
   "version": "3.12.7"
  }
 },
 "nbformat": 4,
 "nbformat_minor": 5
}
