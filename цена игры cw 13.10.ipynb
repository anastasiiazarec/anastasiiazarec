{
 "cells": [
  {
   "cell_type": "code",
   "execution_count": 1,
   "id": "14731d17",
   "metadata": {},
   "outputs": [],
   "source": [
    "import numpy as np\n",
    "from scipy.optimize import linprog"
   ]
  },
  {
   "cell_type": "code",
   "execution_count": 2,
   "id": "99e279a1",
   "metadata": {},
   "outputs": [
    {
     "name": "stdout",
     "output_type": "stream",
     "text": [
      "[[2 3 1]\n",
      " [1 2 3]\n",
      " [3 1 2]]\n"
     ]
    }
   ],
   "source": [
    "A=np.array([[2,3,1],[1,2,3], [3,1,2]])\n",
    "print(A)"
   ]
  },
  {
   "cell_type": "code",
   "execution_count": 3,
   "id": "ff282339",
   "metadata": {},
   "outputs": [
    {
     "data": {
      "text/plain": [
       "        message: Optimization terminated successfully. (HiGHS Status 7: Optimal)\n",
       "        success: True\n",
       "         status: 0\n",
       "            fun: -0.5\n",
       "              x: [ 1.667e-01  1.667e-01  1.667e-01]\n",
       "            nit: 3\n",
       "          lower:  residual: [ 1.667e-01  1.667e-01  1.667e-01]\n",
       "                 marginals: [ 0.000e+00  0.000e+00  0.000e+00]\n",
       "          upper:  residual: [       inf        inf        inf]\n",
       "                 marginals: [ 0.000e+00  0.000e+00  0.000e+00]\n",
       "          eqlin:  residual: []\n",
       "                 marginals: []\n",
       "        ineqlin:  residual: [ 0.000e+00  0.000e+00  0.000e+00]\n",
       "                 marginals: [-1.667e-01 -1.667e-01 -1.667e-01]\n",
       " mip_node_count: 0\n",
       " mip_dual_bound: 0.0\n",
       "        mip_gap: 0.0"
      ]
     },
     "execution_count": 3,
     "metadata": {},
     "output_type": "execute_result"
    }
   ],
   "source": [
    "#Первый\n",
    "c=np.array([-1,-1,-1])\n",
    "b=np.array([1,1,1])\n",
    "x_bounds=[(0,None),(0,None),(0,None)]\n",
    "\n",
    "res=linprog(c,A_ub=A.T,b_ub=b,bounds=x_bounds)\n",
    "\n",
    "res"
   ]
  },
  {
   "cell_type": "code",
   "execution_count": 4,
   "id": "cee2ed6a",
   "metadata": {},
   "outputs": [
    {
     "data": {
      "text/plain": [
       "array([0.16666667, 0.16666667, 0.16666667])"
      ]
     },
     "execution_count": 4,
     "metadata": {},
     "output_type": "execute_result"
    }
   ],
   "source": [
    "res.x"
   ]
  },
  {
   "cell_type": "code",
   "execution_count": 5,
   "id": "192a797f",
   "metadata": {},
   "outputs": [
    {
     "data": {
      "text/plain": [
       "-0.5"
      ]
     },
     "execution_count": 5,
     "metadata": {},
     "output_type": "execute_result"
    }
   ],
   "source": [
    "res.fun"
   ]
  },
  {
   "cell_type": "code",
   "execution_count": 6,
   "id": "df8f421d",
   "metadata": {},
   "outputs": [
    {
     "name": "stdout",
     "output_type": "stream",
     "text": [
      "цена игры= 0.0\n",
      "равновесная стратегия: [0.33333333 0.33333333 0.33333333]\n"
     ]
    }
   ],
   "source": [
    "print('цена игры=', -1/res.fun-2)\n",
    "print('равновесная стратегия:', -res.x/res.fun)"
   ]
  },
  {
   "cell_type": "code",
   "execution_count": 7,
   "id": "22d9b174",
   "metadata": {},
   "outputs": [
    {
     "data": {
      "text/plain": [
       "        message: Optimization terminated successfully. (HiGHS Status 7: Optimal)\n",
       "        success: True\n",
       "         status: 0\n",
       "            fun: 0.5\n",
       "              x: [ 1.667e-01  1.667e-01  1.667e-01]\n",
       "            nit: 3\n",
       "          lower:  residual: [ 1.667e-01  1.667e-01  1.667e-01]\n",
       "                 marginals: [ 0.000e+00  0.000e+00  0.000e+00]\n",
       "          upper:  residual: [       inf        inf        inf]\n",
       "                 marginals: [ 0.000e+00  0.000e+00  0.000e+00]\n",
       "          eqlin:  residual: []\n",
       "                 marginals: []\n",
       "        ineqlin:  residual: [ 0.000e+00  0.000e+00  0.000e+00]\n",
       "                 marginals: [-1.667e-01 -1.667e-01 -1.667e-01]\n",
       " mip_node_count: 0\n",
       " mip_dual_bound: 0.0\n",
       "        mip_gap: 0.0"
      ]
     },
     "execution_count": 7,
     "metadata": {},
     "output_type": "execute_result"
    }
   ],
   "source": [
    "#Второй\n",
    "c=np.array([1,1,1])\n",
    "b=np.array([-1,-1,-1])\n",
    "x_bounds=[(0,None),(0,None),(0,None)]\n",
    "\n",
    "res=linprog(c,A_ub=-A,b_ub=b,bounds=x_bounds)\n",
    "res"
   ]
  },
  {
   "cell_type": "code",
   "execution_count": 8,
   "id": "8879f2c6",
   "metadata": {},
   "outputs": [
    {
     "name": "stdout",
     "output_type": "stream",
     "text": [
      "цена игры= 0.0\n",
      "равновесная стратегия: [0.33333333 0.33333333 0.33333333]\n"
     ]
    }
   ],
   "source": [
    "print('цена игры=', 1/res.fun-2)\n",
    "print('равновесная стратегия:', res.x/res.fun)"
   ]
  },
  {
   "cell_type": "code",
   "execution_count": null,
   "id": "78961bc7",
   "metadata": {},
   "outputs": [],
   "source": []
  }
 ],
 "metadata": {
  "kernelspec": {
   "display_name": "Python 3 (ipykernel)",
   "language": "python",
   "name": "python3"
  },
  "language_info": {
   "codemirror_mode": {
    "name": "ipython",
    "version": 3
   },
   "file_extension": ".py",
   "mimetype": "text/x-python",
   "name": "python",
   "nbconvert_exporter": "python",
   "pygments_lexer": "ipython3",
   "version": "3.11.4"
  }
 },
 "nbformat": 4,
 "nbformat_minor": 5
}
