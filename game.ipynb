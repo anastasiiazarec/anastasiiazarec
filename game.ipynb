{
 "cells": [
  {
   "cell_type": "code",
   "execution_count": 1,
   "id": "c9e5f1b8-813d-489f-ad13-de577f60ef0f",
   "metadata": {},
   "outputs": [],
   "source": [
    "import numpy as np"
   ]
  },
  {
   "cell_type": "code",
   "execution_count": 3,
   "id": "478cbd4c-1772-47f8-9764-bfcbc0154037",
   "metadata": {},
   "outputs": [
    {
     "name": "stdout",
     "output_type": "stream",
     "text": [
      "[[-2  2 -1  0  1]\n",
      " [ 2  3  1  2  2]\n",
      " [ 3 -3  2  4  3]\n",
      " [-2  1 -2 -1  0]]\n"
     ]
    }
   ],
   "source": [
    "A=np.array([[-2,2,-1,0,1],[2,3,1,2,2],[3,-3,2,4,3],[-2,1,-2,-1,0]])\n",
    "print(A)"
   ]
  },
  {
   "cell_type": "code",
   "execution_count": 5,
   "id": "1df115b5-c65d-430b-8dac-bf2c107c5d53",
   "metadata": {},
   "outputs": [
    {
     "data": {
      "text/plain": [
       "array([-2,  1, -3, -2])"
      ]
     },
     "execution_count": 5,
     "metadata": {},
     "output_type": "execute_result"
    }
   ],
   "source": [
    "A.min(axis=1)"
   ]
  },
  {
   "cell_type": "code",
   "execution_count": 6,
   "id": "3fe420fe-b772-4ad3-8d24-b340c1e5cd4e",
   "metadata": {},
   "outputs": [
    {
     "data": {
      "text/plain": [
       "1"
      ]
     },
     "execution_count": 6,
     "metadata": {},
     "output_type": "execute_result"
    }
   ],
   "source": [
    "max(A.min(axis=1))"
   ]
  },
  {
   "cell_type": "code",
   "execution_count": 7,
   "id": "b4308af1-7fb2-4818-af3c-8275ea49ec78",
   "metadata": {},
   "outputs": [
    {
     "data": {
      "text/plain": [
       "2"
      ]
     },
     "execution_count": 7,
     "metadata": {},
     "output_type": "execute_result"
    }
   ],
   "source": [
    "min(A.max(axis=0))"
   ]
  },
  {
   "cell_type": "code",
   "execution_count": 8,
   "id": "9d37ae17-9cb3-4279-8260-44506b8942d9",
   "metadata": {},
   "outputs": [
    {
     "name": "stdout",
     "output_type": "stream",
     "text": [
      "[0.1 0.2 0.2 0.5] [0.3 0.3 0.  0.1 0.3]\n"
     ]
    }
   ],
   "source": [
    "P=np.array([0.1,0.2,0.2,0.5])\n",
    "Q=np.array([0.3,0.3,0,0.1,0.3])\n",
    "print(P,Q)"
   ]
  },
  {
   "cell_type": "code",
   "execution_count": 9,
   "id": "df57175e-4875-401d-81b0-5e52b5dcbc5f",
   "metadata": {},
   "outputs": [
    {
     "data": {
      "text/plain": [
       "0.55"
      ]
     },
     "execution_count": 9,
     "metadata": {},
     "output_type": "execute_result"
    }
   ],
   "source": [
    "P.T@A@Q"
   ]
  },
  {
   "cell_type": "code",
   "execution_count": null,
   "id": "ce4a62c6-b0f5-44ca-9c79-4261e9ddd512",
   "metadata": {},
   "outputs": [],
   "source": []
  }
 ],
 "metadata": {
  "kernelspec": {
   "display_name": "Python 3 (ipykernel)",
   "language": "python",
   "name": "python3"
  },
  "language_info": {
   "codemirror_mode": {
    "name": "ipython",
    "version": 3
   },
   "file_extension": ".py",
   "mimetype": "text/x-python",
   "name": "python",
   "nbconvert_exporter": "python",
   "pygments_lexer": "ipython3",
   "version": "3.11.4"
  }
 },
 "nbformat": 4,
 "nbformat_minor": 5
}
