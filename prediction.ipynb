{
 "cells": [
  {
   "cell_type": "code",
   "execution_count": 10,
   "id": "94e751a0",
   "metadata": {},
   "outputs": [],
   "source": [
    "import numpy as np\n",
    "import pandas as pd\n",
    "import statsmodels.formula.api as smf\n",
    "from statsmodels.formula.api import ols\n",
    "\n",
    "# Не показывать Warnings\n",
    "import warnings\n",
    "warnings.simplefilter(action='ignore', category=Warning)"
   ]
  },
  {
   "cell_type": "code",
   "execution_count": 2,
   "id": "19160381",
   "metadata": {},
   "outputs": [],
   "source": [
    "df = pd.read_csv('sleep75.csv')"
   ]
  },
  {
   "cell_type": "code",
   "execution_count": 6,
   "id": "edf7d64a",
   "metadata": {},
   "outputs": [],
   "source": [
    "df[\"age_sq\"]=df[\"age\"]**2"
   ]
  },
  {
   "cell_type": "code",
   "execution_count": 8,
   "id": "acb20984",
   "metadata": {},
   "outputs": [],
   "source": [
    "mod = ols(formula='sleep~age+age_sq+educ+earns74', data=df)\n",
    "# подгонка модели\n",
    "res = mod.fit()"
   ]
  },
  {
   "cell_type": "code",
   "execution_count": 9,
   "id": "ff24fbe0",
   "metadata": {},
   "outputs": [
    {
     "data": {
      "text/plain": [
       "Intercept    3739.715608\n",
       "age           -20.406033\n",
       "age_sq          0.283142\n",
       "educ           -9.016826\n",
       "earns74        -0.002971\n",
       "dtype: float64"
      ]
     },
     "execution_count": 9,
     "metadata": {},
     "output_type": "execute_result"
    }
   ],
   "source": [
    "res.params"
   ]
  },
  {
   "cell_type": "code",
   "execution_count": 11,
   "id": "35266d78",
   "metadata": {},
   "outputs": [],
   "source": [
    "regression1=ols('sleep~age+age_sq+educ+earns74', data=df).fit()"
   ]
  },
  {
   "cell_type": "code",
   "execution_count": 12,
   "id": "56494544",
   "metadata": {},
   "outputs": [
    {
     "data": {
      "text/html": [
       "<table class=\"simpletable\">\n",
       "<caption>OLS Regression Results</caption>\n",
       "<tr>\n",
       "  <th>Dep. Variable:</th>          <td>sleep</td>      <th>  R-squared:         </th> <td>   0.023</td> \n",
       "</tr>\n",
       "<tr>\n",
       "  <th>Model:</th>                   <td>OLS</td>       <th>  Adj. R-squared:    </th> <td>   0.018</td> \n",
       "</tr>\n",
       "<tr>\n",
       "  <th>Method:</th>             <td>Least Squares</td>  <th>  F-statistic:       </th> <td>   4.210</td> \n",
       "</tr>\n",
       "<tr>\n",
       "  <th>Date:</th>             <td>Fri, 28 Mar 2025</td> <th>  Prob (F-statistic):</th>  <td>0.00225</td> \n",
       "</tr>\n",
       "<tr>\n",
       "  <th>Time:</th>                 <td>01:32:12</td>     <th>  Log-Likelihood:    </th> <td> -5297.2</td> \n",
       "</tr>\n",
       "<tr>\n",
       "  <th>No. Observations:</th>      <td>   706</td>      <th>  AIC:               </th> <td>1.060e+04</td>\n",
       "</tr>\n",
       "<tr>\n",
       "  <th>Df Residuals:</th>          <td>   701</td>      <th>  BIC:               </th> <td>1.063e+04</td>\n",
       "</tr>\n",
       "<tr>\n",
       "  <th>Df Model:</th>              <td>     4</td>      <th>                     </th>     <td> </td>    \n",
       "</tr>\n",
       "<tr>\n",
       "  <th>Covariance Type:</th>      <td>nonrobust</td>    <th>                     </th>     <td> </td>    \n",
       "</tr>\n",
       "</table>\n",
       "<table class=\"simpletable\">\n",
       "<tr>\n",
       "      <td></td>         <th>coef</th>     <th>std err</th>      <th>t</th>      <th>P>|t|</th>  <th>[0.025</th>    <th>0.975]</th>  \n",
       "</tr>\n",
       "<tr>\n",
       "  <th>Intercept</th> <td> 3739.7156</td> <td>  249.678</td> <td>   14.978</td> <td> 0.000</td> <td> 3249.509</td> <td> 4229.922</td>\n",
       "</tr>\n",
       "<tr>\n",
       "  <th>age</th>       <td>  -20.4060</td> <td>   11.750</td> <td>   -1.737</td> <td> 0.083</td> <td>  -43.475</td> <td>    2.663</td>\n",
       "</tr>\n",
       "<tr>\n",
       "  <th>age_sq</th>    <td>    0.2831</td> <td>    0.140</td> <td>    2.022</td> <td> 0.044</td> <td>    0.008</td> <td>    0.558</td>\n",
       "</tr>\n",
       "<tr>\n",
       "  <th>educ</th>      <td>   -9.0168</td> <td>    6.469</td> <td>   -1.394</td> <td> 0.164</td> <td>  -21.717</td> <td>    3.684</td>\n",
       "</tr>\n",
       "<tr>\n",
       "  <th>earns74</th>   <td>   -0.0030</td> <td>    0.002</td> <td>   -1.588</td> <td> 0.113</td> <td>   -0.007</td> <td>    0.001</td>\n",
       "</tr>\n",
       "</table>\n",
       "<table class=\"simpletable\">\n",
       "<tr>\n",
       "  <th>Omnibus:</th>       <td>73.362</td> <th>  Durbin-Watson:     </th> <td>   1.915</td>\n",
       "</tr>\n",
       "<tr>\n",
       "  <th>Prob(Omnibus):</th> <td> 0.000</td> <th>  Jarque-Bera (JB):  </th> <td> 207.216</td>\n",
       "</tr>\n",
       "<tr>\n",
       "  <th>Skew:</th>          <td>-0.516</td> <th>  Prob(JB):          </th> <td>1.01e-45</td>\n",
       "</tr>\n",
       "<tr>\n",
       "  <th>Kurtosis:</th>      <td> 5.445</td> <th>  Cond. No.          </th> <td>2.04e+05</td>\n",
       "</tr>\n",
       "</table><br/><br/>Notes:<br/>[1] Standard Errors assume that the covariance matrix of the errors is correctly specified.<br/>[2] The condition number is large, 2.04e+05. This might indicate that there are<br/>strong multicollinearity or other numerical problems."
      ],
      "text/latex": [
       "\\begin{center}\n",
       "\\begin{tabular}{lclc}\n",
       "\\toprule\n",
       "\\textbf{Dep. Variable:}    &      sleep       & \\textbf{  R-squared:         } &     0.023   \\\\\n",
       "\\textbf{Model:}            &       OLS        & \\textbf{  Adj. R-squared:    } &     0.018   \\\\\n",
       "\\textbf{Method:}           &  Least Squares   & \\textbf{  F-statistic:       } &     4.210   \\\\\n",
       "\\textbf{Date:}             & Fri, 28 Mar 2025 & \\textbf{  Prob (F-statistic):} &  0.00225    \\\\\n",
       "\\textbf{Time:}             &     01:32:12     & \\textbf{  Log-Likelihood:    } &   -5297.2   \\\\\n",
       "\\textbf{No. Observations:} &         706      & \\textbf{  AIC:               } & 1.060e+04   \\\\\n",
       "\\textbf{Df Residuals:}     &         701      & \\textbf{  BIC:               } & 1.063e+04   \\\\\n",
       "\\textbf{Df Model:}         &           4      & \\textbf{                     } &             \\\\\n",
       "\\textbf{Covariance Type:}  &    nonrobust     & \\textbf{                     } &             \\\\\n",
       "\\bottomrule\n",
       "\\end{tabular}\n",
       "\\begin{tabular}{lcccccc}\n",
       "                   & \\textbf{coef} & \\textbf{std err} & \\textbf{t} & \\textbf{P$> |$t$|$} & \\textbf{[0.025} & \\textbf{0.975]}  \\\\\n",
       "\\midrule\n",
       "\\textbf{Intercept} &    3739.7156  &      249.678     &    14.978  &         0.000        &     3249.509    &     4229.922     \\\\\n",
       "\\textbf{age}       &     -20.4060  &       11.750     &    -1.737  &         0.083        &      -43.475    &        2.663     \\\\\n",
       "\\textbf{age\\_sq}   &       0.2831  &        0.140     &     2.022  &         0.044        &        0.008    &        0.558     \\\\\n",
       "\\textbf{educ}      &      -9.0168  &        6.469     &    -1.394  &         0.164        &      -21.717    &        3.684     \\\\\n",
       "\\textbf{earns74}   &      -0.0030  &        0.002     &    -1.588  &         0.113        &       -0.007    &        0.001     \\\\\n",
       "\\bottomrule\n",
       "\\end{tabular}\n",
       "\\begin{tabular}{lclc}\n",
       "\\textbf{Omnibus:}       & 73.362 & \\textbf{  Durbin-Watson:     } &    1.915  \\\\\n",
       "\\textbf{Prob(Omnibus):} &  0.000 & \\textbf{  Jarque-Bera (JB):  } &  207.216  \\\\\n",
       "\\textbf{Skew:}          & -0.516 & \\textbf{  Prob(JB):          } & 1.01e-45  \\\\\n",
       "\\textbf{Kurtosis:}      &  5.445 & \\textbf{  Cond. No.          } & 2.04e+05  \\\\\n",
       "\\bottomrule\n",
       "\\end{tabular}\n",
       "%\\caption{OLS Regression Results}\n",
       "\\end{center}\n",
       "\n",
       "Notes: \\newline\n",
       " [1] Standard Errors assume that the covariance matrix of the errors is correctly specified. \\newline\n",
       " [2] The condition number is large, 2.04e+05. This might indicate that there are \\newline\n",
       " strong multicollinearity or other numerical problems."
      ],
      "text/plain": [
       "<class 'statsmodels.iolib.summary.Summary'>\n",
       "\"\"\"\n",
       "                            OLS Regression Results                            \n",
       "==============================================================================\n",
       "Dep. Variable:                  sleep   R-squared:                       0.023\n",
       "Model:                            OLS   Adj. R-squared:                  0.018\n",
       "Method:                 Least Squares   F-statistic:                     4.210\n",
       "Date:                Fri, 28 Mar 2025   Prob (F-statistic):            0.00225\n",
       "Time:                        01:32:12   Log-Likelihood:                -5297.2\n",
       "No. Observations:                 706   AIC:                         1.060e+04\n",
       "Df Residuals:                     701   BIC:                         1.063e+04\n",
       "Df Model:                           4                                         \n",
       "Covariance Type:            nonrobust                                         \n",
       "==============================================================================\n",
       "                 coef    std err          t      P>|t|      [0.025      0.975]\n",
       "------------------------------------------------------------------------------\n",
       "Intercept   3739.7156    249.678     14.978      0.000    3249.509    4229.922\n",
       "age          -20.4060     11.750     -1.737      0.083     -43.475       2.663\n",
       "age_sq         0.2831      0.140      2.022      0.044       0.008       0.558\n",
       "educ          -9.0168      6.469     -1.394      0.164     -21.717       3.684\n",
       "earns74       -0.0030      0.002     -1.588      0.113      -0.007       0.001\n",
       "==============================================================================\n",
       "Omnibus:                       73.362   Durbin-Watson:                   1.915\n",
       "Prob(Omnibus):                  0.000   Jarque-Bera (JB):              207.216\n",
       "Skew:                          -0.516   Prob(JB):                     1.01e-45\n",
       "Kurtosis:                       5.445   Cond. No.                     2.04e+05\n",
       "==============================================================================\n",
       "\n",
       "Notes:\n",
       "[1] Standard Errors assume that the covariance matrix of the errors is correctly specified.\n",
       "[2] The condition number is large, 2.04e+05. This might indicate that there are\n",
       "strong multicollinearity or other numerical problems.\n",
       "\"\"\""
      ]
     },
     "execution_count": 12,
     "metadata": {},
     "output_type": "execute_result"
    }
   ],
   "source": [
    "regression1.summary()"
   ]
  },
  {
   "cell_type": "code",
   "execution_count": 16,
   "id": "d9808a27",
   "metadata": {},
   "outputs": [],
   "source": [
    "df = pd.read_csv('wage1.csv')"
   ]
  },
  {
   "cell_type": "code",
   "execution_count": 17,
   "id": "484a0d95",
   "metadata": {},
   "outputs": [],
   "source": [
    "df[\"exper2\"]=df[\"exper\"]**2"
   ]
  },
  {
   "cell_type": "code",
   "execution_count": 24,
   "id": "f3cf5990",
   "metadata": {},
   "outputs": [],
   "source": [
    "mod = ols(formula='lwage~exper+exper2+female+married+smsa', data=df)\n",
    "# подгонка модели\n",
    "res = mod.fit()"
   ]
  },
  {
   "cell_type": "code",
   "execution_count": 33,
   "id": "5213e5ed",
   "metadata": {},
   "outputs": [
    {
     "data": {
      "text/plain": [
       "Intercept    1.250423\n",
       "exper        0.036880\n",
       "exper2      -0.000772\n",
       "female      -0.362740\n",
       "married      0.143784\n",
       "smsa         0.272562\n",
       "dtype: float64"
      ]
     },
     "execution_count": 33,
     "metadata": {},
     "output_type": "execute_result"
    }
   ],
   "source": [
    "res.params"
   ]
  },
  {
   "cell_type": "code",
   "execution_count": 41,
   "id": "f39f4501",
   "metadata": {},
   "outputs": [
    {
     "data": {
      "text/html": [
       "<div>\n",
       "<style scoped>\n",
       "    .dataframe tbody tr th:only-of-type {\n",
       "        vertical-align: middle;\n",
       "    }\n",
       "\n",
       "    .dataframe tbody tr th {\n",
       "        vertical-align: top;\n",
       "    }\n",
       "\n",
       "    .dataframe thead th {\n",
       "        text-align: right;\n",
       "    }\n",
       "</style>\n",
       "<table border=\"1\" class=\"dataframe\">\n",
       "  <thead>\n",
       "    <tr style=\"text-align: right;\">\n",
       "      <th></th>\n",
       "      <th>exper</th>\n",
       "      <th>exper2</th>\n",
       "      <th>female</th>\n",
       "      <th>married</th>\n",
       "      <th>smsa</th>\n",
       "    </tr>\n",
       "  </thead>\n",
       "  <tbody>\n",
       "    <tr>\n",
       "      <th>0</th>\n",
       "      <td>26</td>\n",
       "      <td>676</td>\n",
       "      <td>0</td>\n",
       "      <td>0</td>\n",
       "      <td>1</td>\n",
       "    </tr>\n",
       "  </tbody>\n",
       "</table>\n",
       "</div>"
      ],
      "text/plain": [
       "   exper  exper2  female  married  smsa\n",
       "0     26     676       0        0     1"
      ]
     },
     "execution_count": 41,
     "metadata": {},
     "output_type": "execute_result"
    }
   ],
   "source": [
    "new_data = pd.DataFrame({'exper': [26], 'exper2': [26**2], 'female': [0], 'married': [0], 'smsa': [1] })\n",
    "new_data"
   ]
  },
  {
   "cell_type": "code",
   "execution_count": 37,
   "id": "64c34ea3",
   "metadata": {},
   "outputs": [
    {
     "data": {
      "text/plain": [
       "0    1.96\n",
       "dtype: float64"
      ]
     },
     "execution_count": 37,
     "metadata": {},
     "output_type": "execute_result"
    }
   ],
   "source": [
    "res.predict(exog=new_data, transform=True).round(3)"
   ]
  },
  {
   "cell_type": "code",
   "execution_count": 70,
   "id": "1983df8b",
   "metadata": {},
   "outputs": [],
   "source": [
    "wage=np.exp(1.96)"
   ]
  },
  {
   "cell_type": "code",
   "execution_count": 71,
   "id": "8a93ca5d",
   "metadata": {},
   "outputs": [
    {
     "data": {
      "text/plain": [
       "7.099327065156633"
      ]
     },
     "execution_count": 71,
     "metadata": {},
     "output_type": "execute_result"
    }
   ],
   "source": [
    "wage"
   ]
  },
  {
   "cell_type": "code",
   "execution_count": 42,
   "id": "80c7ad81",
   "metadata": {},
   "outputs": [
    {
     "data": {
      "text/plain": [
       "0.2933241702018897"
      ]
     },
     "execution_count": 42,
     "metadata": {},
     "output_type": "execute_result"
    }
   ],
   "source": [
    "#r2\n",
    "res.rsquared"
   ]
  },
  {
   "cell_type": "code",
   "execution_count": 43,
   "id": "f1ba9b04",
   "metadata": {},
   "outputs": [
    {
     "data": {
      "text/plain": [
       "0.2865292102999848"
      ]
     },
     "execution_count": 43,
     "metadata": {},
     "output_type": "execute_result"
    }
   ],
   "source": [
    "#r2adj\n",
    "res.rsquared_adj"
   ]
  },
  {
   "cell_type": "code",
   "execution_count": 44,
   "id": "3763bf45",
   "metadata": {},
   "outputs": [],
   "source": [
    "#ex2 on prediction"
   ]
  },
  {
   "cell_type": "code",
   "execution_count": 52,
   "id": "cf48e29e",
   "metadata": {},
   "outputs": [],
   "source": [
    "mod = ols(formula='lwage~exper+exper2+female+married+smsa', data=df)\n",
    "# подгонка модели\n",
    "res = mod.fit()"
   ]
  },
  {
   "cell_type": "code",
   "execution_count": 74,
   "id": "ca54f64e",
   "metadata": {},
   "outputs": [
    {
     "data": {
      "text/html": [
       "<div>\n",
       "<style scoped>\n",
       "    .dataframe tbody tr th:only-of-type {\n",
       "        vertical-align: middle;\n",
       "    }\n",
       "\n",
       "    .dataframe tbody tr th {\n",
       "        vertical-align: top;\n",
       "    }\n",
       "\n",
       "    .dataframe thead th {\n",
       "        text-align: right;\n",
       "    }\n",
       "</style>\n",
       "<table border=\"1\" class=\"dataframe\">\n",
       "  <thead>\n",
       "    <tr style=\"text-align: right;\">\n",
       "      <th></th>\n",
       "      <th>exper</th>\n",
       "      <th>exper2</th>\n",
       "      <th>female</th>\n",
       "      <th>married</th>\n",
       "      <th>smsa</th>\n",
       "    </tr>\n",
       "  </thead>\n",
       "  <tbody>\n",
       "    <tr>\n",
       "      <th>0</th>\n",
       "      <td>5</td>\n",
       "      <td>25</td>\n",
       "      <td>1</td>\n",
       "      <td>1</td>\n",
       "      <td>1</td>\n",
       "    </tr>\n",
       "  </tbody>\n",
       "</table>\n",
       "</div>"
      ],
      "text/plain": [
       "   exper  exper2  female  married  smsa\n",
       "0      5      25       1        1     1"
      ]
     },
     "execution_count": 74,
     "metadata": {},
     "output_type": "execute_result"
    }
   ],
   "source": [
    "new_data1 = pd.DataFrame({'exper': [5], 'exper2': [5**2], 'female': [1], 'married': [1], 'smsa': [1] })\n",
    "new_data1"
   ]
  },
  {
   "cell_type": "code",
   "execution_count": 75,
   "id": "fa8d4144",
   "metadata": {},
   "outputs": [
    {
     "data": {
      "text/plain": [
       "0    1.58\n",
       "dtype: float64"
      ]
     },
     "execution_count": 75,
     "metadata": {},
     "output_type": "execute_result"
    }
   ],
   "source": [
    "res.predict(exog=new_data1, transform=True).round(2)"
   ]
  },
  {
   "cell_type": "code",
   "execution_count": 76,
   "id": "df15b80b",
   "metadata": {},
   "outputs": [],
   "source": [
    "wage1=np.exp(1.58)"
   ]
  },
  {
   "cell_type": "code",
   "execution_count": 73,
   "id": "82c72203",
   "metadata": {},
   "outputs": [
    {
     "data": {
      "text/plain": [
       "1.0"
      ]
     },
     "execution_count": 73,
     "metadata": {},
     "output_type": "execute_result"
    }
   ],
   "source": [
    "wage1"
   ]
  },
  {
   "cell_type": "code",
   "execution_count": null,
   "id": "7f7ce7fb",
   "metadata": {},
   "outputs": [],
   "source": []
  }
 ],
 "metadata": {
  "kernelspec": {
   "display_name": "Python 3 (ipykernel)",
   "language": "python",
   "name": "python3"
  },
  "language_info": {
   "codemirror_mode": {
    "name": "ipython",
    "version": 3
   },
   "file_extension": ".py",
   "mimetype": "text/x-python",
   "name": "python",
   "nbconvert_exporter": "python",
   "pygments_lexer": "ipython3",
   "version": "3.11.4"
  }
 },
 "nbformat": 4,
 "nbformat_minor": 5
}
